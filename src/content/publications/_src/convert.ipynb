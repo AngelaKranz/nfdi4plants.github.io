{
 "cells": [
  {
   "cell_type": "code",
   "execution_count": 1,
   "metadata": {
    "dotnet_interactive": {
     "language": "fsharp"
    },
    "polyglot_notebook": {
     "kernelName": "fsharp"
    }
   },
   "outputs": [
    {
     "data": {
      "text/html": [
       "<div><div></div><div></div><div><strong>Installed Packages</strong><ul><li><span>Deedle.Interactive, 3.0.0</span></li><li><span>FSharpAux, 2.0.0</span></li></ul></div></div>"
      ]
     },
     "metadata": {},
     "output_type": "display_data"
    },
    {
     "data": {
      "text/plain": [
       "Loading extensions from `C:\\Users\\schne\\.nuget\\packages\\deedle.interactive\\3.0.0\\lib\\netstandard2.1\\Deedle.Interactive.dll`"
      ]
     },
     "metadata": {},
     "output_type": "display_data"
    }
   ],
   "source": [
    "#r \"nuget: Deedle.Interactive\"\n",
    "#r \"nuget: FSharpAux\""
   ]
  },
  {
   "cell_type": "code",
   "execution_count": 9,
   "metadata": {
    "dotnet_interactive": {
     "language": "fsharp"
    },
    "polyglot_notebook": {
     "kernelName": "fsharp"
    }
   },
   "outputs": [],
   "source": [
    "type Publication = {\n",
    "    PubType   : string\n",
    "    Publisher : string\n",
    "    Title     : string\n",
    "    Year      : int\n",
    "    Authors   : string\n",
    "    DOI       : string\n",
    "    OpenAccess: bool\n",
    "}"
   ]
  },
  {
   "cell_type": "code",
   "execution_count": 5,
   "metadata": {
    "dotnet_interactive": {
     "language": "fsharp"
    },
    "polyglot_notebook": {
     "kernelName": "fsharp"
    }
   },
   "outputs": [
    {
     "data": {
      "text/html": [
       "<div>\r\n",
       "<style scoped>,\r\n",
       "  .dataframe tbody tr th:only-of-type {\r\n",
       "    vertical-align: middle;\r\n",
       "  }\r\n",
       "  .dataframe tbody tr th {,\r\n",
       "    vertical-align: top\r\n",
       "  }\r\n",
       "  .dataframe thead th {\r\n",
       "    text-align: right;\r\n",
       "  }\r\n",
       "  .no-wrap {\r\n",
       "    white-space: nowrap;\r\n",
       "  }\r\n",
       "</style>\r\n",
       "<table border='1' class='dataframe'>\r\n",
       "<thead><th></th><th></th><th>Autoren</th><th>Titel</th><th>Jahr</th><th>Typ</th><th>Publisher</th><th>DOI/PID/URL</th><th>Open Access</th><th>weitere beteiligte Konsortien</th><th>Kommentar</th></thead><thead><th></th><th></th><th>(string)</th><th>(string)</th><th>(int)</th><th>(string)</th><th>(string)</th><th>(string)</th><th>(string)</th><th>(string)</th><th>(string)</th></thead>\r\n",
       "<tr><td><b>0</b></td><td class=\"no-wrap\">-></td><td>Glöckner, Frank Oliver |  Diepenbroek, Michael | Felden, Janine | Overmann, Jörg | Bonn, Aletta | Gemeinholzer, Birgit | Güntsch, Anton | König-Ries, Birgitta | Seeger, Bernhard | Pollex-Krüger, Annette | Fluck, Juliane | Pigeot, Iris | Kirsten Toralf | Mühlhaus, Timo | Wolf, Christof | Heinrich, Uwe | Steinbeck, Christoph | Koepler, Oliver | Stegle, Oliver | Weimann, Joachim | Schörner-Sadenius, Thomas | Gutt, Christian | Stahl, Florian | Wagemann, Kurt | Schrade, Torsten | Schmitt, Robert | Eberl, Chris | Gauterin, Frank | Schultz, Martin | Bernard, Lars</td><td>Berlin Declaration on NFDI Cross-Cutting Topics (Version 1)</td><td>2019</td><td>white paper</td><td>Zenodo</td><td>https://doi.org/10.5281/zenodo.3457213</td><td>open access</td><td> </td><td> </td></tr><tr><td><b>1</b></td><td class=\"no-wrap\">-></td><td>Mühlhaus, Timo | Krüger, Jens | Usadel, Björn | Martins Rodrigues, Cristina | von Suchodoletz, Dirk</td><td>DataPLANT: Driving the digital change in plant science</td><td>2020</td><td>conference poster</td><td>Zenodo</td><td>https://doi.org/10.5281/zenodo.5045068</td><td>open access</td><td> </td><td> </td></tr><tr><td><b>2</b></td><td class=\"no-wrap\">-></td><td>Dirk von Suchodoletz</td><td>Pflanzliches Leben besser verstehen</td><td>2020</td><td>press release</td><td> </td><td>https://kommunikation.uni-freiburg.de/pm/2020/pflanzliches-leben-besser-verstehen</td><td>open access</td><td> </td><td> </td></tr><tr><td><b>3</b></td><td class=\"no-wrap\">-></td><td>Dirk von Suchodoletz | Usadel, Björn | Mühlhaus, Timo | Krüger, Jens</td><td>DataPLANT: Data in Plant research [Press Release]</td><td>2020</td><td>press release</td><td> </td><td>https://www.dfg.de/download/pdf/foerderung/programme/nfdi/nfdi_konferenz_2020/dataplant_abstract.pdf</td><td>open access</td><td> </td><td> </td></tr><tr><td><b>4</b></td><td class=\"no-wrap\">-></td><td>Venn, Benedikt | Schneider, Kevin | Frey, Kevin | Weil, H. Lukas | Werner, Johannes | Wannenmacher, Fabian | Zajac, Thomas | von Suchodoletz, Dirk | Usadel, Björn | Krüger, Jens | Garth, Christoph | Mühlhaus, Timo</td><td>Fostering the democratization of research data by using the Annotated Research Context (ARC) as practical implementation</td><td>2021</td><td>conference poster</td><td>heiDOK, Universitätsbibiothek Heidelberg</td><td>https://doi.org/10.11588/heidok.00029769</td><td>open access</td><td> </td><td> </td></tr><tr><td><b>:</b></td><td class=\"no-wrap\"></td><td>...</td><td>...</td><td>...</td><td>...</td><td>...</td><td>...</td><td>...</td><td>...</td><td>...</td></tr><tr><td><b>53</b></td><td class=\"no-wrap\">-></td><td>Jens Krüger |  Amir Baleghi | Halima Saker |  Simon Prikl | Suvasini Thangaraj |  Holger Gauza | Ursula Eberhardt |  Hamed Jalali | Alexander Kirbis |  Adam J. Svahn |  Lucas Beuter | Olaf Brandt |  Stephan Hachinger | Alexander Wellmann | Johannes Munke | Mukund Biradar</td><td>GitLab in Research Data Management</td><td>2024</td><td>conference proceedings</td><td> </td><td>accepted for publication</td><td> </td><td> </td><td> </td></tr><tr><td><b>54</b></td><td class=\"no-wrap\">-></td><td>D. von Suchodoletz |  J. Leendertse |  S. Semaan |  K. Rechert |  R. Gieschke |  B. Goldammer und D. Tolkatsch</td><td>Developing a holistic research data management strategy for a university</td><td>2021</td><td>conference proceedings</td><td></td><td>https://doi.org/10.17605/OSF.IO/ACNSR </td><td>open access</td><td> </td><td> </td></tr><tr><td><b>55</b></td><td class=\"no-wrap\">-></td><td>D. von Suchodoletz |  J. Bauer |  M. Tschöpe |  H. Gauza |  M. Derntl |  S. Kaminsky</td><td>Herausforderungen beim Aufbau eines föderierten Datenrepositoriums auf Basis von InvenioRDM</td><td>2023</td><td>conference proceedings</td><td>heiBOOKS</td><td>https://doi.org/10.11588/heibooks.1288.c18069</td><td>open access</td><td> </td><td> </td></tr><tr><td><b>56</b></td><td class=\"no-wrap\">-></td><td>Olaf Brandt |  Holger Gauza |  Jan Kaltenbach |  Maximilian E. Müller |  Gabriel Schneider |  Claus Zinn</td><td>A Tool for XSD-Based Metadata Annotation</td><td>2023</td><td>conference proceedings</td><td>heiBOOKS</td><td>https://doi.org/10.11588/heibooks.1288.c18088</td><td>open access</td><td> </td><td> </td></tr><tr><td><b>57</b></td><td class=\"no-wrap\">-></td><td>Olaf Brandt | Holger Gauza | Jan Kaltenbach | Maximilian E. Müller | Gabriel Schneider | Claus Zinn</td><td>A Minimal Metadata Schema and Its Tool to Improve the Searchableness of Research Data in Bioinformatics</td><td>2024</td><td>journal article</td><td>Journal of Library Metadata</td><td>https://doi.org/10.1080/19386389.2024.2338314</td><td>open access</td><td> </td><td> </td></tr>\r\n",
       "</table>\r\n",
       "<p><b>58</b> rows x <b>9</b> columns</p><p><b>2</b> missing values</p>\r\n",
       "</div>\r\n"
      ]
     },
     "metadata": {},
     "output_type": "display_data"
    }
   ],
   "source": [
    "open Deedle\n",
    "let df = Frame.ReadCsv(@\"pubs.txt\", separators = \"\\t\", hasHeaders = true)\n",
    "df"
   ]
  },
  {
   "cell_type": "code",
   "execution_count": 20,
   "metadata": {
    "dotnet_interactive": {
     "language": "fsharp"
    },
    "polyglot_notebook": {
     "kernelName": "fsharp"
    }
   },
   "outputs": [
    {
     "data": {
      "text/html": [
       "<table><thead><tr><th><i>index</i></th><th>value</th></tr></thead><tbody><tr><td>0</td><td><details class=\"dni-treeview\"><summary><span class=\"dni-code-hint\"><code>{ PubType = &quot;white paper&quot;\\n  Publisher = &quot;Zenodo&quot;\\n  Title = &quot;Berlin Declaration on NFDI Cross-Cutting Topics (Version 1)&quot;\\n  Year = 2019\\n  Authors =\\n   &quot;Gl&#246;ckner, Frank Oliver and Diepenbroek, Michael and Felden, Janine and Overmann, J&#246;rg and Bonn, Aletta and Gemeinholzer, Birgit and G&#252;ntsch, Ant...</code></span></summary><div><table><thead><tr></tr></thead><tbody><tr><td>PubType</td><td><div class=\"dni-plaintext\"><pre>white paper</pre></div></td></tr><tr><td>Publisher</td><td><div class=\"dni-plaintext\"><pre>Zenodo</pre></div></td></tr><tr><td>Title</td><td><div class=\"dni-plaintext\"><pre>Berlin Declaration on NFDI Cross-Cutting Topics (Version 1)</pre></div></td></tr><tr><td>Year</td><td><div class=\"dni-plaintext\"><pre>2019</pre></div></td></tr><tr><td>Authors</td><td><div class=\"dni-plaintext\"><pre>Gl&#246;ckner, Frank Oliver and Diepenbroek, Michael and Felden, Janine and Overmann, J&#246;rg and Bonn, Aletta and Gemeinholzer, Birgit and G&#252;ntsch, Anton and K&#246;nig-Ries, Birgitta and Seeger, Bernhard and Pollex-Kr&#252;ger, Annette and Fluck, Juliane and Pigeot, Iris and Kirsten Toralf and M&#252;hlhaus, Timo and Wolf, Christof and Heinrich, Uwe and Steinbeck, Christoph and Koepler, Oliver and Stegle, Oliver and Weimann, Joachim and Sch&#246;rner-Sadenius, Thomas and Gutt, Christian and Stahl, Florian and Wagemann, Kurt and Schrade, Torsten and Schmitt, Robert and Eberl, Chris and Gauterin, Frank and Schultz, Martin and Bernard, Lars</pre></div></td></tr><tr><td>DOI</td><td><div class=\"dni-plaintext\"><pre>https://doi.org/10.5281/zenodo.3457213</pre></div></td></tr><tr><td>OpenAccess</td><td><div class=\"dni-plaintext\"><pre>True</pre></div></td></tr></tbody></table></div></details></td></tr><tr><td>1</td><td><details class=\"dni-treeview\"><summary><span class=\"dni-code-hint\"><code>{ PubType = &quot;conference poster&quot;\\n  Publisher = &quot;Zenodo&quot;\\n  Title = &quot;DataPLANT: Driving the digital change in plant science&quot;\\n  Year = 2020\\n  Authors =\\n   &quot;M&#252;hlhaus, Timo and Kr&#252;ger, Jens and Usadel, Bj&#246;rn and Martins Rodrigues, Cristina and von Suchodoletz, Dirk&quot;\\n  DOI = &quot;https://doi.org/10.5281/...</code></span></summary><div><table><thead><tr></tr></thead><tbody><tr><td>PubType</td><td><div class=\"dni-plaintext\"><pre>conference poster</pre></div></td></tr><tr><td>Publisher</td><td><div class=\"dni-plaintext\"><pre>Zenodo</pre></div></td></tr><tr><td>Title</td><td><div class=\"dni-plaintext\"><pre>DataPLANT: Driving the digital change in plant science</pre></div></td></tr><tr><td>Year</td><td><div class=\"dni-plaintext\"><pre>2020</pre></div></td></tr><tr><td>Authors</td><td><div class=\"dni-plaintext\"><pre>M&#252;hlhaus, Timo and Kr&#252;ger, Jens and Usadel, Bj&#246;rn and Martins Rodrigues, Cristina and von Suchodoletz, Dirk</pre></div></td></tr><tr><td>DOI</td><td><div class=\"dni-plaintext\"><pre>https://doi.org/10.5281/zenodo.5045068</pre></div></td></tr><tr><td>OpenAccess</td><td><div class=\"dni-plaintext\"><pre>True</pre></div></td></tr></tbody></table></div></details></td></tr><tr><td>2</td><td><details class=\"dni-treeview\"><summary><span class=\"dni-code-hint\"><code>{ PubType = &quot;press release&quot;\\n  Publisher = &quot;&#160;&quot;\\n  Title = &quot;Pflanzliches Leben besser verstehen&quot;\\n  Year = 2020\\n  Authors = &quot;Dirk von Suchodoletz&quot;\\n  DOI =\\n   &quot;https://kommunikation.uni-freiburg.de/pm/2020/pflanzliches-leben-besser-verstehen&quot;\\n  OpenAccess = true }</code></span></summary><div><table><thead><tr></tr></thead><tbody><tr><td>PubType</td><td><div class=\"dni-plaintext\"><pre>press release</pre></div></td></tr><tr><td>Publisher</td><td><div class=\"dni-plaintext\"><pre>&#160;</pre></div></td></tr><tr><td>Title</td><td><div class=\"dni-plaintext\"><pre>Pflanzliches Leben besser verstehen</pre></div></td></tr><tr><td>Year</td><td><div class=\"dni-plaintext\"><pre>2020</pre></div></td></tr><tr><td>Authors</td><td><div class=\"dni-plaintext\"><pre>Dirk von Suchodoletz</pre></div></td></tr><tr><td>DOI</td><td><div class=\"dni-plaintext\"><pre>https://kommunikation.uni-freiburg.de/pm/2020/pflanzliches-leben-besser-verstehen</pre></div></td></tr><tr><td>OpenAccess</td><td><div class=\"dni-plaintext\"><pre>True</pre></div></td></tr></tbody></table></div></details></td></tr><tr><td>3</td><td><details class=\"dni-treeview\"><summary><span class=\"dni-code-hint\"><code>{ PubType = &quot;press release&quot;\\n  Publisher = &quot;&#160;&quot;\\n  Title = &quot;DataPLANT: Data in Plant research [Press Release]&quot;\\n  Year = 2020\\n  Authors =\\n   &quot;Dirk von Suchodoletz and Usadel, Bj&#246;rn and M&#252;hlhaus, Timo and Kr&#252;ger, Jens&quot;\\n  DOI =\\n   &quot;https://www.dfg.de/download/pdf/foerderung/programme/nfdi/nfdi_konf...</code></span></summary><div><table><thead><tr></tr></thead><tbody><tr><td>PubType</td><td><div class=\"dni-plaintext\"><pre>press release</pre></div></td></tr><tr><td>Publisher</td><td><div class=\"dni-plaintext\"><pre>&#160;</pre></div></td></tr><tr><td>Title</td><td><div class=\"dni-plaintext\"><pre>DataPLANT: Data in Plant research [Press Release]</pre></div></td></tr><tr><td>Year</td><td><div class=\"dni-plaintext\"><pre>2020</pre></div></td></tr><tr><td>Authors</td><td><div class=\"dni-plaintext\"><pre>Dirk von Suchodoletz and Usadel, Bj&#246;rn and M&#252;hlhaus, Timo and Kr&#252;ger, Jens</pre></div></td></tr><tr><td>DOI</td><td><div class=\"dni-plaintext\"><pre>https://www.dfg.de/download/pdf/foerderung/programme/nfdi/nfdi_konferenz_2020/dataplant_abstract.pdf</pre></div></td></tr><tr><td>OpenAccess</td><td><div class=\"dni-plaintext\"><pre>True</pre></div></td></tr></tbody></table></div></details></td></tr><tr><td>4</td><td><details class=\"dni-treeview\"><summary><span class=\"dni-code-hint\"><code>{ PubType = &quot;conference poster&quot;\\n  Publisher = &quot;heiDOK, Universit&#228;tsbibiothek Heidelberg&quot;\\n  Title =\\n   &quot;Fostering the democratization of research data by using the Annotated Research Context (ARC) as practical implementation&quot;\\n  Year = 2021\\n  Authors =\\n   &quot;Venn, Benedikt and Schneider, Kevin and...</code></span></summary><div><table><thead><tr></tr></thead><tbody><tr><td>PubType</td><td><div class=\"dni-plaintext\"><pre>conference poster</pre></div></td></tr><tr><td>Publisher</td><td><div class=\"dni-plaintext\"><pre>heiDOK, Universit&#228;tsbibiothek Heidelberg</pre></div></td></tr><tr><td>Title</td><td><div class=\"dni-plaintext\"><pre>Fostering the democratization of research data by using the Annotated Research Context (ARC) as practical implementation</pre></div></td></tr><tr><td>Year</td><td><div class=\"dni-plaintext\"><pre>2021</pre></div></td></tr><tr><td>Authors</td><td><div class=\"dni-plaintext\"><pre>Venn, Benedikt and Schneider, Kevin and Frey, Kevin and Weil, H. Lukas and Werner, Johannes and Wannenmacher, Fabian and Zajac, Thomas and von Suchodoletz, Dirk and Usadel, Bj&#246;rn and Kr&#252;ger, Jens and Garth, Christoph and M&#252;hlhaus, Timo</pre></div></td></tr><tr><td>DOI</td><td><div class=\"dni-plaintext\"><pre>https://doi.org/10.11588/heidok.00029769</pre></div></td></tr><tr><td>OpenAccess</td><td><div class=\"dni-plaintext\"><pre>True</pre></div></td></tr></tbody></table></div></details></td></tr><tr><td>5</td><td><details class=\"dni-treeview\"><summary><span class=\"dni-code-hint\"><code>{ PubType = &quot;conference poster&quot;\\n  Publisher = &quot;heiDOK, Universit&#228;tsbibiothek Heidelberg&quot;\\n  Title = &quot;Data Stewards as ambassadors between the NFDI and the community&quot;\\n  Year = 2021\\n  Authors =\\n   &quot;von Suchodoletz, Dirk and Kr&#252;ger, Jens and M&#252;hlhaus, Timo and Usadel, Bj&#246;rn and Gauza, Holger and Ma...</code></span></summary><div><table><thead><tr></tr></thead><tbody><tr><td>PubType</td><td><div class=\"dni-plaintext\"><pre>conference poster</pre></div></td></tr><tr><td>Publisher</td><td><div class=\"dni-plaintext\"><pre>heiDOK, Universit&#228;tsbibiothek Heidelberg</pre></div></td></tr><tr><td>Title</td><td><div class=\"dni-plaintext\"><pre>Data Stewards as ambassadors between the NFDI and the community</pre></div></td></tr><tr><td>Year</td><td><div class=\"dni-plaintext\"><pre>2021</pre></div></td></tr><tr><td>Authors</td><td><div class=\"dni-plaintext\"><pre>von Suchodoletz, Dirk and Kr&#252;ger, Jens and M&#252;hlhaus, Timo and Usadel, Bj&#246;rn and Gauza, Holger and Martins Rodrigues, Cristina</pre></div></td></tr><tr><td>DOI</td><td><div class=\"dni-plaintext\"><pre>https://doi.org/10.11588/heidok.00029712</pre></div></td></tr><tr><td>OpenAccess</td><td><div class=\"dni-plaintext\"><pre>True</pre></div></td></tr></tbody></table></div></details></td></tr><tr><td>6</td><td><details class=\"dni-treeview\"><summary><span class=\"dni-code-hint\"><code>{ PubType = &quot;journal article&quot;\\n  Publisher = &quot;Bausteine Forschungsdatenmanagement&quot;\\n  Title = &quot;DataPLANT – Ein NFDI-Konsortium Der Pflanzen-Grundlagenforschung&quot;\\n  Year = 2021\\n  Authors =\\n   &quot;von Suchodoletz, Dirk and M&#252;hlhaus, Timo and Kr&#252;ger, Jens and Usadel, Bj&#246;rn and Martins Rodrigues, Cristin...</code></span></summary><div><table><thead><tr></tr></thead><tbody><tr><td>PubType</td><td><div class=\"dni-plaintext\"><pre>journal article</pre></div></td></tr><tr><td>Publisher</td><td><div class=\"dni-plaintext\"><pre>Bausteine Forschungsdatenmanagement</pre></div></td></tr><tr><td>Title</td><td><div class=\"dni-plaintext\"><pre>DataPLANT – Ein NFDI-Konsortium Der Pflanzen-Grundlagenforschung</pre></div></td></tr><tr><td>Year</td><td><div class=\"dni-plaintext\"><pre>2021</pre></div></td></tr><tr><td>Authors</td><td><div class=\"dni-plaintext\"><pre>von Suchodoletz, Dirk and M&#252;hlhaus, Timo and Kr&#252;ger, Jens and Usadel, Bj&#246;rn and Martins Rodrigues, Cristina</pre></div></td></tr><tr><td>DOI</td><td><div class=\"dni-plaintext\"><pre>https://doi.org/10.17192/bfdm.2021.2.8335</pre></div></td></tr><tr><td>OpenAccess</td><td><div class=\"dni-plaintext\"><pre>True</pre></div></td></tr></tbody></table></div></details></td></tr><tr><td>7</td><td><details class=\"dni-treeview\"><summary><span class=\"dni-code-hint\"><code>{ PubType = &quot;grant application&quot;\\n  Publisher = &quot;Zenodo&quot;\\n  Title = &quot;DataPLANT - NFDI Consortium for Fundamental Plant Research&quot;\\n  Year = 2021\\n  Authors = &quot;Dirk von Suchodoletz|Bj&#246;rn Usadel|Jens Kr&#252;ger|Timo M&#252;hlhaus&quot;\\n  DOI = &quot;https://doi.org/10.5281/zenodo.4836395&quot;\\n  OpenAccess = true }</code></span></summary><div><table><thead><tr></tr></thead><tbody><tr><td>PubType</td><td><div class=\"dni-plaintext\"><pre>grant application</pre></div></td></tr><tr><td>Publisher</td><td><div class=\"dni-plaintext\"><pre>Zenodo</pre></div></td></tr><tr><td>Title</td><td><div class=\"dni-plaintext\"><pre>DataPLANT - NFDI Consortium for Fundamental Plant Research</pre></div></td></tr><tr><td>Year</td><td><div class=\"dni-plaintext\"><pre>2021</pre></div></td></tr><tr><td>Authors</td><td><div class=\"dni-plaintext\"><pre>Dirk von Suchodoletz|Bj&#246;rn Usadel|Jens Kr&#252;ger|Timo M&#252;hlhaus</pre></div></td></tr><tr><td>DOI</td><td><div class=\"dni-plaintext\"><pre>https://doi.org/10.5281/zenodo.4836395</pre></div></td></tr><tr><td>OpenAccess</td><td><div class=\"dni-plaintext\"><pre>True</pre></div></td></tr></tbody></table></div></details></td></tr><tr><td>8</td><td><details class=\"dni-treeview\"><summary><span class=\"dni-code-hint\"><code>{ PubType = &quot;working paper&quot;\\n  Publisher = &quot;Zenodo&quot;\\n  Title = &quot;Leitfaden – Verantwortungsvoller Umgang mit Forschungsdaten&quot;\\n  Year = 2021\\n  Authors =\\n   &quot;von Suchodoletz, Dirk|Brettschneider, Peter|B&#246;ker, Elisabeth|Apel, Jochen|Iglezakis, Dorothea|Schmidt, Karsten|Schneider, Gabriel&quot;\\n  DOI = &quot;h...</code></span></summary><div><table><thead><tr></tr></thead><tbody><tr><td>PubType</td><td><div class=\"dni-plaintext\"><pre>working paper</pre></div></td></tr><tr><td>Publisher</td><td><div class=\"dni-plaintext\"><pre>Zenodo</pre></div></td></tr><tr><td>Title</td><td><div class=\"dni-plaintext\"><pre>Leitfaden – Verantwortungsvoller Umgang mit Forschungsdaten</pre></div></td></tr><tr><td>Year</td><td><div class=\"dni-plaintext\"><pre>2021</pre></div></td></tr><tr><td>Authors</td><td><div class=\"dni-plaintext\"><pre>von Suchodoletz, Dirk|Brettschneider, Peter|B&#246;ker, Elisabeth|Apel, Jochen|Iglezakis, Dorothea|Schmidt, Karsten|Schneider, Gabriel</pre></div></td></tr><tr><td>DOI</td><td><div class=\"dni-plaintext\"><pre>https://doi.org/10.5281/zenodo.5410396</pre></div></td></tr><tr><td>OpenAccess</td><td><div class=\"dni-plaintext\"><pre>True</pre></div></td></tr></tbody></table></div></details></td></tr><tr><td>9</td><td><details class=\"dni-treeview\"><summary><span class=\"dni-code-hint\"><code>{ PubType = &quot;review paper&quot;\\n  Publisher = &quot;Frontiers Media S.A.&quot;\\n  Title = &quot;Data Management and Modeling in Plant Biology&quot;\\n  Year = 2021\\n  Authors =\\n   &quot;Maria Krantz|David Zimmer|Stephan O. Adler|Anastasia Kitashova|Edda Klipp|Timo M&#252;hlhaus|Thomas N&#228;gele&quot;\\n  DOI = &quot;https://doi.org/10.3389/fpls.2...</code></span></summary><div><table><thead><tr></tr></thead><tbody><tr><td>PubType</td><td><div class=\"dni-plaintext\"><pre>review paper</pre></div></td></tr><tr><td>Publisher</td><td><div class=\"dni-plaintext\"><pre>Frontiers Media S.A.</pre></div></td></tr><tr><td>Title</td><td><div class=\"dni-plaintext\"><pre>Data Management and Modeling in Plant Biology</pre></div></td></tr><tr><td>Year</td><td><div class=\"dni-plaintext\"><pre>2021</pre></div></td></tr><tr><td>Authors</td><td><div class=\"dni-plaintext\"><pre>Maria Krantz|David Zimmer|Stephan O. Adler|Anastasia Kitashova|Edda Klipp|Timo M&#252;hlhaus|Thomas N&#228;gele</pre></div></td></tr><tr><td>DOI</td><td><div class=\"dni-plaintext\"><pre>https://doi.org/10.3389/fpls.2021.717958</pre></div></td></tr><tr><td>OpenAccess</td><td><div class=\"dni-plaintext\"><pre>True</pre></div></td></tr></tbody></table></div></details></td></tr><tr><td>10</td><td><details class=\"dni-treeview\"><summary><span class=\"dni-code-hint\"><code>{ PubType = &quot;meeting report&quot;\\n  Publisher = &quot;Zenodo&quot;\\n  Title = &quot;NFDI Cross-cutting Topics Workshop Report&quot;\\n  Year = 2021\\n  Authors =\\n   &quot;Ebert, Barbara|Fluck, Juliane|Gl&#246;ckner, Frank Oliver|Koepler, Oliver|Miller, Bernhard|Schmitt, Robert|Schrade, Torsten|Stegle, Oliver|Steinbeck, Christoph|von ...</code></span></summary><div><table><thead><tr></tr></thead><tbody><tr><td>PubType</td><td><div class=\"dni-plaintext\"><pre>meeting report</pre></div></td></tr><tr><td>Publisher</td><td><div class=\"dni-plaintext\"><pre>Zenodo</pre></div></td></tr><tr><td>Title</td><td><div class=\"dni-plaintext\"><pre>NFDI Cross-cutting Topics Workshop Report</pre></div></td></tr><tr><td>Year</td><td><div class=\"dni-plaintext\"><pre>2021</pre></div></td></tr><tr><td>Authors</td><td><div class=\"dni-plaintext\"><pre>Ebert, Barbara|Fluck, Juliane|Gl&#246;ckner, Frank Oliver|Koepler, Oliver|Miller, Bernhard|Schmitt, Robert|Schrade, Torsten|Stegle, Oliver|Steinbeck, Christoph|von Suchodoletz, Dirk|Wagemann, Kurt|Knebes, Jennifer|Kraft, Sophie|Seitz-Moskaliuk, Hendrik|Sure-Vetter, York|W&#246;ssner, Elena</pre></div></td></tr><tr><td>DOI</td><td><div class=\"dni-plaintext\"><pre>https://doi.org/10.5281/zenodo.7825374</pre></div></td></tr><tr><td>OpenAccess</td><td><div class=\"dni-plaintext\"><pre>True</pre></div></td></tr></tbody></table></div></details></td></tr><tr><td>11</td><td><details class=\"dni-treeview\"><summary><span class=\"dni-code-hint\"><code>{ PubType = &quot;conference paper&quot;\\n  Publisher = &quot;heiDOK, Universit&#228;tsbibiothek Heidelberg&quot;\\n  Title =\\n   &quot;Immutable yet evolving: ARCs for permanent sharing in the research data-time continuum&quot;\\n  Year = 2021\\n  Authors =\\n   &quot;Christoph Garth| Jonas Lukasczyk| Timo M&#252;hlhaus| Benedikt Venn| Jens Kr&#252;ge...</code></span></summary><div><table><thead><tr></tr></thead><tbody><tr><td>PubType</td><td><div class=\"dni-plaintext\"><pre>conference paper</pre></div></td></tr><tr><td>Publisher</td><td><div class=\"dni-plaintext\"><pre>heiDOK, Universit&#228;tsbibiothek Heidelberg</pre></div></td></tr><tr><td>Title</td><td><div class=\"dni-plaintext\"><pre>Immutable yet evolving: ARCs for permanent sharing in the research data-time continuum</pre></div></td></tr><tr><td>Year</td><td><div class=\"dni-plaintext\"><pre>2021</pre></div></td></tr><tr><td>Authors</td><td><div class=\"dni-plaintext\"><pre>Christoph Garth| Jonas Lukasczyk| Timo M&#252;hlhaus| Benedikt Venn| Jens Kr&#252;ger| Kolja Glogowski| Cristina Martins Rodrigues| Dirk von Suchodoletz</pre></div></td></tr><tr><td>DOI</td><td><div class=\"dni-plaintext\"><pre>https://doi.org/10.11588/heibooks.979.c13751</pre></div></td></tr><tr><td>OpenAccess</td><td><div class=\"dni-plaintext\"><pre>True</pre></div></td></tr></tbody></table></div></details></td></tr><tr><td>12</td><td><details class=\"dni-treeview\"><summary><span class=\"dni-code-hint\"><code>{ PubType = &quot;conference paper&quot;\\n  Publisher = &quot;heiDOK, Universit&#228;tsbibiothek Heidelberg&quot;\\n  Title =\\n   &quot;Nationale Forschungsdateninfrastruktur f&#252;r die Ingenieurwissenschaften (NFDI4Ing)&quot;\\n  Year = 2021\\n  Authors =\\n   &quot;Britta Nestler| Peter F. Pelz| Robert H. Schmitt| Marco Berger| Hauke Dierend| ...</code></span></summary><div><table><thead><tr></tr></thead><tbody><tr><td>PubType</td><td><div class=\"dni-plaintext\"><pre>conference paper</pre></div></td></tr><tr><td>Publisher</td><td><div class=\"dni-plaintext\"><pre>heiDOK, Universit&#228;tsbibiothek Heidelberg</pre></div></td></tr><tr><td>Title</td><td><div class=\"dni-plaintext\"><pre>Nationale Forschungsdateninfrastruktur f&#252;r die Ingenieurwissenschaften (NFDI4Ing)</pre></div></td></tr><tr><td>Year</td><td><div class=\"dni-plaintext\"><pre>2021</pre></div></td></tr><tr><td>Authors</td><td><div class=\"dni-plaintext\"><pre>Britta Nestler| Peter F. Pelz| Robert H. Schmitt| Marco Berger| Hauke Dierend| Benjamin Farnbacher| Bernd Flemisch| Dennis Gl&#228;ser| Ina Heine| Nils Hoppe| Gerald Jagusch| Roland Lachmayer| Jan Lemmer| Jan Linxweiler| Amelie I. Metzmacher| Iryna Mozgova| Nils Preu&#223;| Manuela Richter| Stefanie Roski| Hartmut Schlenz| Michael Selzer| Christian Stemmer</pre></div></td></tr><tr><td>DOI</td><td><div class=\"dni-plaintext\"><pre>https://doi.org/10.11588/heibooks.979.c13752</pre></div></td></tr><tr><td>OpenAccess</td><td><div class=\"dni-plaintext\"><pre>True</pre></div></td></tr></tbody></table></div></details></td></tr><tr><td>13</td><td><details class=\"dni-treeview\"><summary><span class=\"dni-code-hint\"><code>{ PubType = &quot;conference paper&quot;\\n  Publisher = &quot;heiDOK, Universit&#228;tsbibiothek Heidelberg&quot;\\n  Title =\\n   &quot;DataPLANT – Tools and Services to structure the Data Jungle for fundamental plant researchers&quot;\\n  Year = 2021\\n  Authors =\\n   &quot;Timo M&#252;hlhaus| Dominik Brilhaus| Marcel Tsch&#246;pe| Oliver Maus| Bj&#246;rn...</code></span></summary><div><table><thead><tr></tr></thead><tbody><tr><td>PubType</td><td><div class=\"dni-plaintext\"><pre>conference paper</pre></div></td></tr><tr><td>Publisher</td><td><div class=\"dni-plaintext\"><pre>heiDOK, Universit&#228;tsbibiothek Heidelberg</pre></div></td></tr><tr><td>Title</td><td><div class=\"dni-plaintext\"><pre>DataPLANT – Tools and Services to structure the Data Jungle for fundamental plant researchers</pre></div></td></tr><tr><td>Year</td><td><div class=\"dni-plaintext\"><pre>2021</pre></div></td></tr><tr><td>Authors</td><td><div class=\"dni-plaintext\"><pre>Timo M&#252;hlhaus| Dominik Brilhaus| Marcel Tsch&#246;pe| Oliver Maus| Bj&#246;rn Gr&#252;ning| Christoph Garth| Cristina Martins Rodrigues| Dirk von Suchodoletz</pre></div></td></tr><tr><td>DOI</td><td><div class=\"dni-plaintext\"><pre>https://doi.org/10.11588/heibooks.979.c13724</pre></div></td></tr><tr><td>OpenAccess</td><td><div class=\"dni-plaintext\"><pre>True</pre></div></td></tr></tbody></table></div></details></td></tr><tr><td>14</td><td><details class=\"dni-treeview\"><summary><span class=\"dni-code-hint\"><code>{ PubType = &quot;conference paper&quot;\\n  Publisher = &quot;heiDOK, Universit&#228;tsbibiothek Heidelberg&quot;\\n  Title = &quot;Data Stewards as ambassadors between the NFDI and the community&quot;\\n  Year = 2021\\n  Authors =\\n   &quot;Dirk von Suchodoletz| Timo M&#252;hlhaus| Dominik Brilhaus| Hajira Jabeen| Bj&#246;rn Usadel| Jens Kr&#252;ger| Holg...</code></span></summary><div><table><thead><tr></tr></thead><tbody><tr><td>PubType</td><td><div class=\"dni-plaintext\"><pre>conference paper</pre></div></td></tr><tr><td>Publisher</td><td><div class=\"dni-plaintext\"><pre>heiDOK, Universit&#228;tsbibiothek Heidelberg</pre></div></td></tr><tr><td>Title</td><td><div class=\"dni-plaintext\"><pre>Data Stewards as ambassadors between the NFDI and the community</pre></div></td></tr><tr><td>Year</td><td><div class=\"dni-plaintext\"><pre>2021</pre></div></td></tr><tr><td>Authors</td><td><div class=\"dni-plaintext\"><pre>Dirk von Suchodoletz| Timo M&#252;hlhaus| Dominik Brilhaus| Hajira Jabeen| Bj&#246;rn Usadel| Jens Kr&#252;ger| Holger Gauza| Cristina Martins Rodrigues</pre></div></td></tr><tr><td>DOI</td><td><div class=\"dni-plaintext\"><pre>https://doi.org/10.11588/heibooks.979.c13750</pre></div></td></tr><tr><td>OpenAccess</td><td><div class=\"dni-plaintext\"><pre>True</pre></div></td></tr></tbody></table></div></details></td></tr><tr><td>15</td><td><details class=\"dni-treeview\"><summary><span class=\"dni-code-hint\"><code>{ PubType = &quot;conference paper&quot;\\n  Publisher = &quot;heiDOK, Universit&#228;tsbibiothek Heidelberg&quot;\\n  Title =\\n   &quot;Storage for Science – Aktueller Stand und anstehende Entwicklungen eines verteilten FDM-Systems&quot;\\n  Year = 2022\\n  Authors =\\n   &quot;Dirk von Suchodoletz| Ulrich Hahn| Jonathan Bauer| Kolja Glogowsk...</code></span></summary><div><table><thead><tr></tr></thead><tbody><tr><td>PubType</td><td><div class=\"dni-plaintext\"><pre>conference paper</pre></div></td></tr><tr><td>Publisher</td><td><div class=\"dni-plaintext\"><pre>heiDOK, Universit&#228;tsbibiothek Heidelberg</pre></div></td></tr><tr><td>Title</td><td><div class=\"dni-plaintext\"><pre>Storage for Science – Aktueller Stand und anstehende Entwicklungen eines verteilten FDM-Systems</pre></div></td></tr><tr><td>Year</td><td><div class=\"dni-plaintext\"><pre>2022</pre></div></td></tr><tr><td>Authors</td><td><div class=\"dni-plaintext\"><pre>Dirk von Suchodoletz| Ulrich Hahn| Jonathan Bauer| Kolja Glogowski| Mark Seifert</pre></div></td></tr><tr><td>DOI</td><td><div class=\"dni-plaintext\"><pre>https://doi.org/10.11588/heibooks.979.c13741</pre></div></td></tr><tr><td>OpenAccess</td><td><div class=\"dni-plaintext\"><pre>True</pre></div></td></tr></tbody></table></div></details></td></tr><tr><td>16</td><td><details class=\"dni-treeview\"><summary><span class=\"dni-code-hint\"><code>{ PubType = &quot;magazine article&quot;\\n  Publisher = &quot;German Network for Bioinformatics Infrastructure (de.NBI)&quot;\\n  Title = &quot;DataPLANT - Platform for Research Data Management&quot;\\n  Year = 2022\\n  Authors =\\n   &quot;Jens Kr&#252;ger and Timo M&#252;hlhaus and Bj&#246;rn Usadel and Dirk von Suchodoletz and Cristina Martins Rodri...</code></span></summary><div><table><thead><tr></tr></thead><tbody><tr><td>PubType</td><td><div class=\"dni-plaintext\"><pre>magazine article</pre></div></td></tr><tr><td>Publisher</td><td><div class=\"dni-plaintext\"><pre>German Network for Bioinformatics Infrastructure (de.NBI)</pre></div></td></tr><tr><td>Title</td><td><div class=\"dni-plaintext\"><pre>DataPLANT - Platform for Research Data Management</pre></div></td></tr><tr><td>Year</td><td><div class=\"dni-plaintext\"><pre>2022</pre></div></td></tr><tr><td>Authors</td><td><div class=\"dni-plaintext\"><pre>Jens Kr&#252;ger and Timo M&#252;hlhaus and Bj&#246;rn Usadel and Dirk von Suchodoletz and Cristina Martins Rodrigues</pre></div></td></tr><tr><td>DOI</td><td><div class=\"dni-plaintext\"><pre>https://doi.org/10.4119/unibi/2963745</pre></div></td></tr><tr><td>OpenAccess</td><td><div class=\"dni-plaintext\"><pre>True</pre></div></td></tr></tbody></table></div></details></td></tr><tr><td>17</td><td><details class=\"dni-treeview\"><summary><span class=\"dni-code-hint\"><code>{ PubType = &quot;position paper&quot;\\n  Publisher = &quot;Zenodo&quot;\\n  Title = &quot;Stellungnahme der NFDI-Konsortien zu Basisdiensten&quot;\\n  Year = 2022\\n  Authors =\\n   &quot;Konsortialversammlung des Vereins Nationale Forschungsdateninfrastruktur (NFDI) e.V.&quot;\\n  DOI = &quot;https://doi.org/10.5281/zenodo.6091657&quot;\\n  OpenAccess ...</code></span></summary><div><table><thead><tr></tr></thead><tbody><tr><td>PubType</td><td><div class=\"dni-plaintext\"><pre>position paper</pre></div></td></tr><tr><td>Publisher</td><td><div class=\"dni-plaintext\"><pre>Zenodo</pre></div></td></tr><tr><td>Title</td><td><div class=\"dni-plaintext\"><pre>Stellungnahme der NFDI-Konsortien zu Basisdiensten</pre></div></td></tr><tr><td>Year</td><td><div class=\"dni-plaintext\"><pre>2022</pre></div></td></tr><tr><td>Authors</td><td><div class=\"dni-plaintext\"><pre>Konsortialversammlung des Vereins Nationale Forschungsdateninfrastruktur (NFDI) e.V.</pre></div></td></tr><tr><td>DOI</td><td><div class=\"dni-plaintext\"><pre>https://doi.org/10.5281/zenodo.6091657</pre></div></td></tr><tr><td>OpenAccess</td><td><div class=\"dni-plaintext\"><pre>True</pre></div></td></tr></tbody></table></div></details></td></tr><tr><td>18</td><td><details class=\"dni-treeview\"><summary><span class=\"dni-code-hint\"><code>{ PubType = &quot;abstract&quot;\\n  Publisher = &quot;&#160;&quot;\\n  Title =\\n   &quot;RDM and DP communities: Finding the common ground to develop a collaborative future service landscape&quot;\\n  Year = 2022\\n  Authors = &quot;Klaus Rechert and Dirk von Suchodoletz&quot;\\n  DOI =\\n   &quot;https://2022.jcdl.org/wp-content/uploads/2022/04/DataPLA...</code></span></summary><div><table><thead><tr></tr></thead><tbody><tr><td>PubType</td><td><div class=\"dni-plaintext\"><pre>abstract</pre></div></td></tr><tr><td>Publisher</td><td><div class=\"dni-plaintext\"><pre>&#160;</pre></div></td></tr><tr><td>Title</td><td><div class=\"dni-plaintext\"><pre>RDM and DP communities: Finding the common ground to develop a collaborative future service landscape</pre></div></td></tr><tr><td>Year</td><td><div class=\"dni-plaintext\"><pre>2022</pre></div></td></tr><tr><td>Authors</td><td><div class=\"dni-plaintext\"><pre>Klaus Rechert and Dirk von Suchodoletz</pre></div></td></tr><tr><td>DOI</td><td><div class=\"dni-plaintext\"><pre>https://2022.jcdl.org/wp-content/uploads/2022/04/DataPLANT-RDM-and-DP-communities-Finding-the-common-ground-to-develop-a-collaborative-future-service-landscape.pdf</pre></div></td></tr><tr><td>OpenAccess</td><td><div class=\"dni-plaintext\"><pre>True</pre></div></td></tr></tbody></table></div></details></td></tr><tr><td>19</td><td><details class=\"dni-treeview\"><summary><span class=\"dni-code-hint\"><code>{ PubType = &quot;preprint&quot;\\n  Publisher = &quot;BioHackrXiv&quot;\\n  Title =\\n   &quot;BiohackEU22 Project 22: Plant Data Exchange and Standard Interoperability&quot;\\n  Year = 2022\\n  Authors =\\n   &quot;Daniel Arend| Sebastian Beier| laurent bouri| Marco Brandizi| Donald Hobern| Erwan Le Floch| Timo M&#252;hlhaus| Cyril Pommier| S...</code></span></summary><div><table><thead><tr></tr></thead><tbody><tr><td>PubType</td><td><div class=\"dni-plaintext\"><pre>preprint</pre></div></td></tr><tr><td>Publisher</td><td><div class=\"dni-plaintext\"><pre>BioHackrXiv</pre></div></td></tr><tr><td>Title</td><td><div class=\"dni-plaintext\"><pre>BiohackEU22 Project 22: Plant Data Exchange and Standard Interoperability</pre></div></td></tr><tr><td>Year</td><td><div class=\"dni-plaintext\"><pre>2022</pre></div></td></tr><tr><td>Authors</td><td><div class=\"dni-plaintext\"><pre>Daniel Arend| Sebastian Beier| laurent bouri| Marco Brandizi| Donald Hobern| Erwan Le Floch| Timo M&#252;hlhaus| Cyril Pommier| Stuart Owen| Philippe Rocca-Serra| Thomas Rosnet| and Stian Soiland-Reyes</pre></div></td></tr><tr><td>DOI</td><td><div class=\"dni-plaintext\"><pre>https://doi.org/10.37044/osf.io/c724r</pre></div></td></tr><tr><td>OpenAccess</td><td><div class=\"dni-plaintext\"><pre>True</pre></div></td></tr></tbody></table></div></details></td></tr><tr><td colspan=\"2\"><i>(36 more)</i></td></tr></tbody></table><style>\r\n",
       ".dni-code-hint {\r\n",
       "    font-style: italic;\r\n",
       "    overflow: hidden;\r\n",
       "    white-space: nowrap;\r\n",
       "}\r\n",
       ".dni-treeview {\r\n",
       "    white-space: nowrap;\r\n",
       "}\r\n",
       ".dni-treeview td {\r\n",
       "    vertical-align: top;\r\n",
       "    text-align: start;\r\n",
       "}\r\n",
       "details.dni-treeview {\r\n",
       "    padding-left: 1em;\r\n",
       "}\r\n",
       "table td {\r\n",
       "    text-align: start;\r\n",
       "}\r\n",
       "table tr { \r\n",
       "    vertical-align: top; \r\n",
       "    margin: 0em 0px;\r\n",
       "}\r\n",
       "table tr td pre \r\n",
       "{ \r\n",
       "    vertical-align: top !important; \r\n",
       "    margin: 0em 0px !important;\r\n",
       "} \r\n",
       "table th {\r\n",
       "    text-align: start;\r\n",
       "}\r\n",
       "</style>"
      ]
     },
     "metadata": {},
     "output_type": "display_data"
    }
   ],
   "source": [
    "let pubs =\n",
    "    df\n",
    "    |> Frame.mapRows (fun rk os ->\n",
    "        {\n",
    "            PubType   = os.GetAs<string>(\"Typ\")\n",
    "            Publisher = os.GetAs<string>(\"Publisher\")\n",
    "            Title     = os.GetAs<string>(\"Titel\")\n",
    "            Year      = os.GetAs<int>(\"Jahr\")\n",
    "            Authors   = os.GetAs<string>(\"Autoren\").Split(\" | \", StringSplitOptions.TrimEntries) |> String.concat \" and \"\n",
    "            DOI       = os.GetAs<string>(\"DOI/PID/URL\")\n",
    "            OpenAccess= os.GetAs<string>(\"Open Access\") = \"open access\"\n",
    "        }\n",
    "    )\n",
    "    |> Series.values\n",
    "    |> Array.ofSeq\n",
    "\n",
    "pubs\n"
   ]
  },
  {
   "cell_type": "code",
   "execution_count": 17,
   "metadata": {
    "dotnet_interactive": {
     "language": "fsharp"
    },
    "polyglot_notebook": {
     "kernelName": "fsharp"
    }
   },
   "outputs": [],
   "source": [
    "let cleanType (t: string) =\n",
    "    match t with\n",
    "    | \"Journal Article\" -> \"Journal\"\n",
    "    | \"Conference Paper\" -> \"Conference\"\n",
    "    | \"Book\" -> \"Book\"\n",
    "    | \"Book Chapter\" -> \"Book Chapter\"\n",
    "    | \"Thesis\" -> \"Thesis\"\n",
    "    | _ -> \"Other\"\n"
   ]
  },
  {
   "cell_type": "code",
   "execution_count": 48,
   "metadata": {
    "dotnet_interactive": {
     "language": "fsharp"
    },
    "polyglot_notebook": {
     "kernelName": "fsharp"
    }
   },
   "outputs": [],
   "source": [
    "open FSharpAux\n",
    "\n",
    "let formatBibTex index (pub: Publication) = \n",
    "    $$\"\"\"@{{pub.PubType.Replace(\" \", \"_\")}}{[index],\n",
    "author = {{{pub.Authors}}},\n",
    "title = {{{pub.Title}}},\n",
    "journal = {{{pub.Publisher}}},\n",
    "doi = {{{pub.DOI}}},\n",
    "year = {{{pub.Year}}}[[note]]\"\"\"\n",
    "    |> fun bibtex -> if pub.OpenAccess then bibtex.Replace(\"[[note]]\", $$\"\"\",{{System.Environment.NewLine}}note = {open access}\"\"\") else bibtex.Replace(\"[[note]]\", \"\")\n",
    "    |> fun bibtex -> bibtex + System.Environment.NewLine + \"}\"\n",
    "    |> fun bibtex -> bibtex.Replace(\"[index]\", index.ToString())\n",
    "\n",
    "pubs\n",
    "|> Array.iteri (fun i p ->\n",
    "\n",
    "    // not url safe!\n",
    "    let fn = \n",
    "        p.Title\n",
    "        |> Seq.map (fun c -> if Path.GetInvalidFileNameChars() |> Seq.contains c then '_' else c)\n",
    "        |> Array.ofSeq\n",
    "        |> String.fromCharArray\n",
    "        |> fun s -> s.Replace(\" \",\"_\")\n",
    "    File.WriteAllText(\n",
    "        $\"\"\"C:\\Users\\schne\\source\\repos\\nfdi4plants\\nfdi4plants.github.io\\src\\content\\publications\\{i}.bib\"\"\", \n",
    "        formatBibTex i p\n",
    "    )\n",
    ")"
   ]
  },
  {
   "cell_type": "code",
   "execution_count": 44,
   "metadata": {
    "dotnet_interactive": {
     "language": "fsharp"
    },
    "polyglot_notebook": {
     "kernelName": "fsharp"
    }
   },
   "outputs": [
    {
     "data": {
      "text/html": [
       "<table><thead><tr><th><i>key</i></th><th>value</th></tr></thead><tbody><tr><td><div class=\"dni-plaintext\"><pre>author</pre></div></td><td><div class=\"dni-plaintext\"><pre>lol, lal</pre></div></td></tr><tr><td><div class=\"dni-plaintext\"><pre>doi</pre></div></td><td><div class=\"dni-plaintext\"><pre>https://doi.org/10.11588/heidok.00029712</pre></div></td></tr><tr><td><div class=\"dni-plaintext\"><pre>journal</pre></div></td><td><div class=\"dni-plaintext\"><pre>heiDOK, Universit&#228;tsbibiothek Heidelberg</pre></div></td></tr><tr><td><div class=\"dni-plaintext\"><pre>note</pre></div></td><td><div class=\"dni-plaintext\"><pre>open access</pre></div></td></tr><tr><td><div class=\"dni-plaintext\"><pre>title</pre></div></td><td><div class=\"dni-plaintext\"><pre>Data Stewards as ambassadors between the NFDI and the community</pre></div></td></tr><tr><td><div class=\"dni-plaintext\"><pre>type</pre></div></td><td><div class=\"dni-plaintext\"><pre>conference_poster</pre></div></td></tr><tr><td><div class=\"dni-plaintext\"><pre>year</pre></div></td><td><div class=\"dni-plaintext\"><pre>2021</pre></div></td></tr></tbody></table><style>\r\n",
       ".dni-code-hint {\r\n",
       "    font-style: italic;\r\n",
       "    overflow: hidden;\r\n",
       "    white-space: nowrap;\r\n",
       "}\r\n",
       ".dni-treeview {\r\n",
       "    white-space: nowrap;\r\n",
       "}\r\n",
       ".dni-treeview td {\r\n",
       "    vertical-align: top;\r\n",
       "    text-align: start;\r\n",
       "}\r\n",
       "details.dni-treeview {\r\n",
       "    padding-left: 1em;\r\n",
       "}\r\n",
       "table td {\r\n",
       "    text-align: start;\r\n",
       "}\r\n",
       "table tr { \r\n",
       "    vertical-align: top; \r\n",
       "    margin: 0em 0px;\r\n",
       "}\r\n",
       "table tr td pre \r\n",
       "{ \r\n",
       "    vertical-align: top !important; \r\n",
       "    margin: 0em 0px !important;\r\n",
       "} \r\n",
       "table th {\r\n",
       "    text-align: start;\r\n",
       "}\r\n",
       "</style>"
      ]
     },
     "metadata": {},
     "output_type": "display_data"
    }
   ],
   "source": [
    "open System\n",
    "open System.Text\n",
    "open System.Text.RegularExpressions\n",
    "\n",
    "let parseBibtexStringDirty (bibtex:string) =\n",
    "    let stopChars = [ '\\r'; '\\n'; '\\t' ]\n",
    "\n",
    "    let removeStopChars (s: string) =\n",
    "        s\n",
    "        |> Seq.filter (fun c -> not (stopChars |> Seq.contains c))\n",
    "        |> Array.ofSeq\n",
    "        |> String.fromCharArray\n",
    "\n",
    "\n",
    "    let BibitemSplitRegex = @\".*@(?<type>[^{]+){(?<id>[^,]*),(?<body>.+)}\"\n",
    "    let BibitemBodyAttributesRegex = @\"(?<attribute>[^{}]*)\\s*=\\s*\\{(?<value>(?:[^{}]|(?<open>\\{)|(?<-open>\\}))*(?(open)(?!)))\\}(,|$)\"\n",
    "\n",
    "    let bibitem = removeStopChars(bibtex)\n",
    "    let groups = Regex(BibitemSplitRegex).Match(bibitem).Groups\n",
    "\n",
    "    let pubType = groups.Item(\"type\").Value.Trim()\n",
    "\n",
    "    Regex(BibitemBodyAttributesRegex).Matches(groups.Item(\"body\").Value)\n",
    "    |> Seq.cast<Match>\n",
    "    |> Seq.map (fun m -> m.Groups[\"attribute\"].Value.Trim(), m.Groups[\"value\"].Value.Trim())\n",
    "    |> Seq.append [|\"type\", pubType|]\n",
    "    |> Map.ofSeq\n",
    "    \n",
    "//@\"C:\\Users\\schne\\source\\repos\\nfdi4plants\\nfdi4plants.github.io\\src\\content\\publications\\featured\\datahub.bib\"\n",
    "@\"C:\\Users\\schne\\source\\repos\\nfdi4plants\\nfdi4plants.github.io\\src\\content\\publications\\5.bib\"\n",
    "|> File.ReadAllText\n",
    "|> parseBibtexStringDirty\n"
   ]
  },
  {
   "cell_type": "code",
   "execution_count": null,
   "metadata": {
    "dotnet_interactive": {
     "language": "fsharp"
    },
    "polyglot_notebook": {
     "kernelName": "fsharp"
    }
   },
   "outputs": [],
   "source": [
    "open FSharpAux\n",
    "\n",
    "let formatBibTex (pub: Publication) = \n",
    "    $$\"\"\"@{{pub.PubType.Replace(\" \", \"_\")}}{\n",
    "author = {{{pub.Authors}}},\n",
    "title = {{{pub.Title}}},\n",
    "journal = {{{pub.Publisher}}},\n",
    "doi = {{{pub.DOI}}},\n",
    "year = {{{pub.Year}}}\n",
    "[[note]]\"\"\"\n",
    "    |> fun bibtex -> if pub.OpenAccess then bibtex.Replace(\"[[note]]\", \"note = {open access}\") else bibtex.Replace(\"[[note]]\", \"\")\n",
    "    |> fun bibtex -> bibtex + System.Environment.NewLine + \"}\"\n",
    "\n",
    "pubs\n",
    "|> Array.iteri (fun i p ->\n",
    "\n",
    "    // not url safe!\n",
    "    let fn = \n",
    "        p.Title\n",
    "        |> Seq.map (fun c -> if Path.GetInvalidFileNameChars() |> Seq.contains c then '_' else c)\n",
    "        |> Array.ofSeq\n",
    "        |> String.fromCharArray\n",
    "        |> fun s -> s.Replace(\" \",\"_\")\n",
    "    File.WriteAllText(\n",
    "        $\"\"\"C:\\Users\\schne\\source\\repos\\nfdi4plants\\nfdi4plants.github.io\\src\\content\\publications\\{i}.bib\"\"\", \n",
    "        formatBibTex p\n",
    "    )\n",
    ")"
   ]
  }
 ],
 "metadata": {
  "kernelspec": {
   "display_name": ".NET (C#)",
   "language": "C#",
   "name": ".net-csharp"
  },
  "polyglot_notebook": {
   "kernelInfo": {
    "defaultKernelName": "csharp",
    "items": [
     {
      "aliases": [],
      "name": "csharp"
     },
     {
      "aliases": [],
      "languageName": "fsharp",
      "name": "fsharp"
     }
    ]
   }
  }
 },
 "nbformat": 4,
 "nbformat_minor": 2
}
